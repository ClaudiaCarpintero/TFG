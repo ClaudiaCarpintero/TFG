{
 "cells": [
  {
   "cell_type": "code",
   "execution_count": 1,
   "id": "0e3d3f69",
   "metadata": {},
   "outputs": [],
   "source": [
    "import pandas as pd\n",
    "import numpy as np\n",
    "import matplotlib.pyplot as plt\n",
    "import seaborn as sb\n",
    "from sklearn.mixture import GaussianMixture\n",
    "\n",
    "ciclistas = open ('/Users/34603/Desktop/TFG/Python/ciclistasVariablesSinNormalizarNiNombres.txt','r')\n",
    "dataSet = list()\n",
    "labels = list()\n",
    "num_variables = 66\n",
    "for linea in ciclistas: #Recorremos cada linea del archivo\n",
    "    caracteristicas = linea.split()\n",
    "    clase = 1 if caracteristicas[0] == \"Profesional\" else 0\n",
    "    labels.append(clase)\n",
    "    variables = []\n",
    "    for i in range(num_variables):\n",
    "      variables.append(float(caracteristicas[i+1]))\n",
    "    dataSet.append(variables)\n",
    "dataSet=np.array(dataSet)\n",
    "labels=np.array(labels)\n",
    "\n",
    "#Se recomienda tener los datos normalizados\n",
    "mu=np.mean(dataSet,axis=0)\n",
    "sigma=np.std(dataSet,axis=0)\n",
    "dataSetNormalizado = ((dataSet-mu)/sigma)\n"
   ]
  },
  {
   "cell_type": "code",
   "execution_count": 3,
   "id": "49696a0b",
   "metadata": {},
   "outputs": [
    {
     "name": "stdout",
     "output_type": "stream",
     "text": [
      "Propiedades del modelo diag: \n",
      "La media de cada componente: [[ 0.16997113 -0.13464137  0.36469301 -0.66558952 -0.64942323 -0.59696858\n",
      "  -0.69673871 -0.72836591 -0.00529623  0.45306926  0.08436447  0.33646718\n",
      "   0.37238066  0.12441442  0.21766018  0.14136926  0.24560661 -0.43091787\n",
      "  -0.73287257  0.13157952 -0.32060949 -0.29660582 -0.28005602 -0.19625078\n",
      "  -0.43732092 -0.36665942 -0.29227478 -0.33002625 -0.48440742 -0.39363207\n",
      "  -0.27162907 -0.21175014 -0.0679509  -0.49048199 -0.56659061 -0.45389372\n",
      "  -0.22757717 -0.02570557 -0.08626013 -0.66337154 -0.68375823 -0.58623314\n",
      "  -0.40396615 -0.42244659 -0.27630742  0.16135521  0.12424509  0.03390245\n",
      "   0.5877948  -0.50206865 -0.29169324 -0.00452881  0.15577208  0.07612644\n",
      "  -0.28585963 -0.17086492  0.20068949  0.35807873  0.34053729  0.15042133\n",
      "   0.16830438  0.01328187 -0.12376638  0.17917502  0.29182302 -0.05905024]\n",
      " [-0.24551385  0.19448198 -0.52677879  0.96140709  0.93805578  0.86228795\n",
      "   1.00640036  1.05208409  0.00765011 -0.65443338 -0.12185979 -0.48600815\n",
      "  -0.53788317 -0.17970971 -0.31439803 -0.20420004 -0.3547651   0.62243693\n",
      "   1.05859371 -0.19005931  0.46310259  0.42843063  0.40452536  0.28347335\n",
      "   0.63168578  0.52961916  0.42217468  0.47670458  0.69969961  0.56857965\n",
      "   0.39235311  0.30586132  0.0981513   0.70847399  0.81840865  0.65562426\n",
      "   0.32872257  0.03713027  0.12459796  0.95820333  0.98765078  0.8467812\n",
      "   0.58350666  0.61020063  0.39911072 -0.23306863 -0.17946513 -0.04897021\n",
      "  -0.84903694  0.72521027  0.42133467  0.00654161 -0.22500412 -0.10996041\n",
      "   0.41290836  0.24680488 -0.28988483 -0.51722483 -0.4918872  -0.21727525\n",
      "  -0.24310633 -0.01918492  0.17877366 -0.25880836 -0.42152214  0.08529478]]\n",
      "A que componente pertenece cada punto:  [1 1 1 1 1 1 1 1 1 0 0 0 0 0 0 0 0 0 0 0 0 0]\n",
      "Probabilidad de generar puntos cada componente:  [0.59090909 0.40909091]\n",
      "La probabilidad de que cada punto pertenezca a una gausiana:  [[1.21371140e-23 1.00000000e+00]\n",
      " [3.74747561e-33 1.00000000e+00]\n",
      " [4.67880043e-36 1.00000000e+00]\n",
      " [8.27718239e-22 1.00000000e+00]\n",
      " [4.65505627e-38 1.00000000e+00]\n",
      " [1.90543964e-12 1.00000000e+00]\n",
      " [2.54117684e-27 1.00000000e+00]\n",
      " [1.08773400e-25 1.00000000e+00]\n",
      " [8.34677797e-46 1.00000000e+00]\n",
      " [1.00000000e+00 6.62281470e-14]\n",
      " [1.00000000e+00 4.53242780e-29]\n",
      " [1.00000000e+00 1.54640781e-53]\n",
      " [1.00000000e+00 6.34086647e-44]\n",
      " [1.00000000e+00 4.38900759e-32]\n",
      " [1.00000000e+00 2.25370496e-51]\n",
      " [1.00000000e+00 8.87143291e-67]\n",
      " [1.00000000e+00 1.45565782e-26]\n",
      " [1.00000000e+00 1.38431621e-32]\n",
      " [1.00000000e+00 2.40822026e-52]\n",
      " [1.00000000e+00 1.11146725e-48]\n",
      " [1.00000000e+00 2.30184872e-47]\n",
      " [1.00000000e+00 3.58231850e-35]]\n",
      "Propiedades del modelo Full: \n",
      "La media de cada componente: [[ 0.12560228 -0.24994676  0.34406893 -0.71259707 -0.72585185 -0.67412365\n",
      "  -0.81154896 -0.80899155 -0.00918013  0.55636844  0.0896573   0.372488\n",
      "   0.51867306  0.10640707  0.22906142  0.10562071  0.34894928 -0.44087208\n",
      "  -0.83272116  0.29952385 -0.28603395 -0.29660582 -0.28005602 -0.06299408\n",
      "  -0.58627379 -0.55816895 -0.47494651 -0.56359432 -0.67052903 -0.27857824\n",
      "  -0.20370629 -0.16220494 -0.01977085 -0.37592746 -0.67413721 -0.53167193\n",
      "  -0.28480117 -0.1670862  -0.17206967 -0.67789311 -0.7321581  -0.53434814\n",
      "  -0.36420214 -0.28646824 -0.14966652  0.26220221  0.28503286  0.04080851\n",
      "   0.59791334 -0.45483985 -0.22099857  0.10548345  0.28614654  0.2622133\n",
      "  -0.27367182 -0.27692674 -0.03334444  0.38136364  0.45016871  0.05159914\n",
      "   0.15234635 -0.02764581 -0.18256391  0.23130622  0.34511678 -0.092434  ]\n",
      " [-0.15072274  0.29993611 -0.41288271  0.85511649  0.87102222  0.80894838\n",
      "   0.97385875  0.97078985  0.01101616 -0.66764213 -0.10758876 -0.4469856\n",
      "  -0.62240767 -0.12768848 -0.27487371 -0.12674485 -0.41873914  0.52904649\n",
      "   0.9992654  -0.35942862  0.34324074  0.35592699  0.33606722  0.07559289\n",
      "   0.70352855  0.66980273  0.56993581  0.67631319  0.80463484  0.33429388\n",
      "   0.24444755  0.19464593  0.02372502  0.45111295  0.80896465  0.63800631\n",
      "   0.34176141  0.20050344  0.2064836   0.81347173  0.87858973  0.64121776\n",
      "   0.43704257  0.34376188  0.17959983 -0.31464265 -0.34203943 -0.04897021\n",
      "  -0.717496    0.54580782  0.26519828 -0.12658013 -0.34337585 -0.31465596\n",
      "   0.32840619  0.33231209  0.04001332 -0.45763637 -0.54020245 -0.06191897\n",
      "  -0.18281562  0.03317498  0.2190767  -0.27756746 -0.41414014  0.1109208 ]]\n",
      "A que componente pertenece cada punto:  [1 1 1 1 1 1 1 1 1 1 0 0 0 0 0 0 0 0 0 0 0 0]\n",
      "Probabilidad de generar puntos cada componente:  [0.54545455 0.45454545]\n",
      "La probabilidad de que cada punto pertenezca a una gausiana:  [[0. 1.]\n",
      " [0. 1.]\n",
      " [0. 1.]\n",
      " [0. 1.]\n",
      " [0. 1.]\n",
      " [0. 1.]\n",
      " [0. 1.]\n",
      " [0. 1.]\n",
      " [0. 1.]\n",
      " [0. 1.]\n",
      " [1. 0.]\n",
      " [1. 0.]\n",
      " [1. 0.]\n",
      " [1. 0.]\n",
      " [1. 0.]\n",
      " [1. 0.]\n",
      " [1. 0.]\n",
      " [1. 0.]\n",
      " [1. 0.]\n",
      " [1. 0.]\n",
      " [1. 0.]\n",
      " [1. 0.]]\n",
      "Propiedades del modelo Tied: \n",
      "La media de cada componente: [[ 0.12560228 -0.24994676  0.34406893 -0.71259707 -0.72585185 -0.67412365\n",
      "  -0.81154896 -0.80899155 -0.00918013  0.55636844  0.0896573   0.372488\n",
      "   0.51867306  0.10640707  0.22906142  0.10562071  0.34894928 -0.44087208\n",
      "  -0.83272116  0.29952385 -0.28603395 -0.29660582 -0.28005602 -0.06299408\n",
      "  -0.58627379 -0.55816895 -0.47494651 -0.56359432 -0.67052903 -0.27857824\n",
      "  -0.20370629 -0.16220494 -0.01977085 -0.37592746 -0.67413721 -0.53167193\n",
      "  -0.28480117 -0.1670862  -0.17206967 -0.67789311 -0.7321581  -0.53434814\n",
      "  -0.36420214 -0.28646824 -0.14966652  0.26220221  0.28503286  0.04080851\n",
      "   0.59791334 -0.45483985 -0.22099857  0.10548345  0.28614654  0.2622133\n",
      "  -0.27367182 -0.27692674 -0.03334444  0.38136364  0.45016871  0.05159914\n",
      "   0.15234635 -0.02764581 -0.18256391  0.23130622  0.34511678 -0.092434  ]\n",
      " [-0.15072274  0.29993611 -0.41288271  0.85511649  0.87102222  0.80894838\n",
      "   0.97385875  0.97078985  0.01101616 -0.66764213 -0.10758876 -0.4469856\n",
      "  -0.62240767 -0.12768848 -0.27487371 -0.12674485 -0.41873914  0.52904649\n",
      "   0.9992654  -0.35942862  0.34324074  0.35592699  0.33606722  0.07559289\n",
      "   0.70352855  0.66980273  0.56993581  0.67631319  0.80463484  0.33429388\n",
      "   0.24444755  0.19464593  0.02372502  0.45111295  0.80896465  0.63800631\n",
      "   0.34176141  0.20050344  0.2064836   0.81347173  0.87858973  0.64121776\n",
      "   0.43704257  0.34376188  0.17959983 -0.31464265 -0.34203943 -0.04897021\n",
      "  -0.717496    0.54580782  0.26519828 -0.12658013 -0.34337585 -0.31465596\n",
      "   0.32840619  0.33231209  0.04001332 -0.45763637 -0.54020245 -0.06191897\n",
      "  -0.18281562  0.03317498  0.2190767  -0.27756746 -0.41414014  0.1109208 ]]\n",
      "A que componente pertenece cada punto:  [1 1 1 1 1 1 1 1 1 1 0 0 0 0 0 0 0 0 0 0 0 0]\n",
      "Probabilidad de generar puntos cada componente:  [0.54545455 0.45454545]\n",
      "La probabilidad de que cada punto pertenezca a una gausiana:  [[0. 1.]\n",
      " [0. 1.]\n",
      " [0. 1.]\n",
      " [0. 1.]\n",
      " [0. 1.]\n",
      " [0. 1.]\n",
      " [0. 1.]\n",
      " [0. 1.]\n",
      " [0. 1.]\n",
      " [0. 1.]\n",
      " [1. 0.]\n",
      " [1. 0.]\n",
      " [1. 0.]\n",
      " [1. 0.]\n",
      " [1. 0.]\n",
      " [1. 0.]\n",
      " [1. 0.]\n",
      " [1. 0.]\n",
      " [1. 0.]\n",
      " [1. 0.]\n",
      " [1. 0.]\n",
      " [1. 0.]]\n",
      "Propiedades del modelo Spherical: \n",
      "La media de cada componente: [[ 0.10656806  0.01257626  0.61437789 -0.71796868 -0.60909964 -0.60101078\n",
      "  -0.87348972 -0.97094261 -0.31448964  0.61327399  0.14898338  0.39594724\n",
      "   0.55313126  0.15326679  0.34757651  0.15218453  0.502412   -0.50351831\n",
      "  -0.87008603  0.40275391 -0.19636094 -0.39697369 -0.58771666 -0.23588958\n",
      "  -0.55217338 -0.53185249 -0.66471217 -0.74327295 -0.67814622 -0.19834651\n",
      "  -0.0499867   0.12442086  0.29665565 -0.09448516 -0.60431874 -0.69916965\n",
      "  -0.45007779 -0.48832509 -0.37085736 -0.65885539 -0.63153552 -0.45717409\n",
      "  -0.26078212 -0.11740216  0.09348062  0.52429061  0.56352001 -0.04897019\n",
      "   0.54527985 -0.56691887 -0.37478428 -0.02922651  0.28619905  0.2995033\n",
      "  -0.30538762 -0.28337316  0.0854373   0.57230915  0.62519874  0.28319705\n",
      "   0.39749263  0.12065687 -0.00216043  0.47586619  0.55601553  0.17377856]\n",
      " [-0.08884205 -0.01048439 -0.51218528  0.59854528  0.50778499  0.50104158\n",
      "   0.72819771  0.80944077  0.26217897 -0.511265   -0.12420221 -0.33008731\n",
      "  -0.46112611 -0.12777314 -0.28976233 -0.1268709  -0.41884325  0.41976553\n",
      "   0.72536017 -0.33576179  0.16369922  0.33094303  0.48995874  0.19665286\n",
      "   0.46032756  0.44338674  0.5541472   0.61964057  0.56534669  0.16535452\n",
      "   0.04167216 -0.1037253  -0.2473114   0.07876896  0.50379932  0.58287319\n",
      "   0.37521405  0.40709948  0.30917076  0.5492646   0.52648899  0.38112999\n",
      "   0.2174049   0.09787406 -0.07793151 -0.43708267 -0.46978685  0.04082473\n",
      "  -0.45458067  0.47262036  0.31244449  0.02436512 -0.2385941  -0.24968539\n",
      "   0.25459093  0.23623825 -0.07122608 -0.47711404 -0.52120624 -0.23609144\n",
      "  -0.33137565 -0.1005874   0.00180108 -0.39671293 -0.46353063 -0.14487308]]\n",
      "A que componente pertenece cada punto:  [1 1 1 1 1 1 1 1 1 1 0 0 0 0 0 0 1 1 0 0 0 0]\n",
      "Probabilidad de generar puntos cada componente:  [0.45464408 0.54535592]\n",
      "La probabilidad de que cada punto pertenezca a una gausiana:  [[2.18025285e-14 1.00000000e+00]\n",
      " [6.97477358e-16 1.00000000e+00]\n",
      " [3.74714979e-21 1.00000000e+00]\n",
      " [2.26459840e-16 1.00000000e+00]\n",
      " [3.97501804e-26 1.00000000e+00]\n",
      " [1.07026527e-16 1.00000000e+00]\n",
      " [1.25395776e-16 1.00000000e+00]\n",
      " [3.31948525e-19 1.00000000e+00]\n",
      " [2.30991754e-29 1.00000000e+00]\n",
      " [1.00857257e-16 1.00000000e+00]\n",
      " [9.99999953e-01 4.72996792e-08]\n",
      " [1.00000000e+00 2.15601157e-16]\n",
      " [1.00000000e+00 2.41970028e-13]\n",
      " [1.00000000e+00 8.21644528e-13]\n",
      " [1.00000000e+00 2.28075766e-15]\n",
      " [1.00000000e+00 2.46734534e-19]\n",
      " [2.17141217e-03 9.97828588e-01]\n",
      " [2.13864858e-07 9.99999786e-01]\n",
      " [9.99999991e-01 8.55074179e-09]\n",
      " [9.99999998e-01 2.23463489e-09]\n",
      " [1.00000000e+00 3.10683671e-12]\n",
      " [1.00000000e+00 5.81094155e-11]]\n"
     ]
    }
   ],
   "source": [
    "#Se crean las distinas variantes de EM:\n",
    "gmDiag = GaussianMixture(n_components=2, covariance_type = 'diag').fit(dataSetNormalizado)\n",
    "gmFull = GaussianMixture(n_components=2, covariance_type = 'full').fit(dataSetNormalizado)\n",
    "gmTied = GaussianMixture(n_components=2, covariance_type = 'tied').fit(dataSetNormalizado)\n",
    "gmSpherical = GaussianMixture(n_components=2, covariance_type = 'spherical').fit(dataSetNormalizado)\n",
    "\n",
    "print('Propiedades del modelo diag: ')\n",
    "print('La media de cada componente:', gmDiag.means_)\n",
    "print('A que componente pertenece cada punto: ', gmDiag.predict(dataSetNormalizado))\n",
    "print('Probabilidad de generar puntos cada componente: ', gmDiag.weights_)\n",
    "print('La probabilidad de que cada punto pertenezca a una gausiana: ', gmDiag.predict_proba(dataSetNormalizado))\n",
    "print('Propiedades del modelo Full: ')\n",
    "print('La media de cada componente:', gmFull.means_)\n",
    "print('A que componente pertenece cada punto: ', gmFull.predict(dataSetNormalizado))\n",
    "print('Probabilidad de generar puntos cada componente: ', gmFull.weights_)\n",
    "print('La probabilidad de que cada punto pertenezca a una gausiana: ', gmFull.predict_proba(dataSetNormalizado))\n",
    "print('Propiedades del modelo Tied: ')\n",
    "print('La media de cada componente:', gmTied.means_)\n",
    "print('A que componente pertenece cada punto: ', gmTied.predict(dataSetNormalizado))\n",
    "print('Probabilidad de generar puntos cada componente: ', gmTied.weights_)\n",
    "print('La probabilidad de que cada punto pertenezca a una gausiana: ', gmTied.predict_proba(dataSetNormalizado))\n",
    "print('Propiedades del modelo Spherical: ')\n",
    "print('La media de cada componente:', gmSpherical.means_)\n",
    "print('A que componente pertenece cada punto: ', gmSpherical.predict(dataSetNormalizado))\n",
    "print('Probabilidad de generar puntos cada componente: ', gmSpherical.weights_)\n",
    "print('La probabilidad de que cada punto pertenezca a una gausiana: ', gmSpherical.predict_proba(dataSetNormalizado))\n"
   ]
  },
  {
   "cell_type": "code",
   "execution_count": 12,
   "id": "49d0fa3a",
   "metadata": {},
   "outputs": [
    {
     "name": "stdout",
     "output_type": "stream",
     "text": [
      "A que componente pertenece cada punto según las variables seleccionadas sin las de potencia:  [1 1 1 1 1 1 1 1 1 1 0 0 0 0 0 0 0 0 0 0 0 0]\n"
     ]
    }
   ],
   "source": [
    "VariablesSeleccionadas=dataSetNormalizado[:,[18,24,34,39,40,41]]\n",
    "gmDiag = GaussianMixture(n_components=2, covariance_type = 'diag').fit(dataSetNormalizado)\n",
    "print('A que componente pertenece cada punto según las variables seleccionadas sin las de potencia: ', gmTied.predict(dataSetNormalizado))"
   ]
  },
  {
   "cell_type": "code",
   "execution_count": 13,
   "id": "c3b3de09",
   "metadata": {},
   "outputs": [
    {
     "name": "stdout",
     "output_type": "stream",
     "text": [
      "A que componente pertenece cada punto con todas las variables seleccionadas:  [1 1 1 1 1 1 1 1 1 1 0 0 0 0 0 0 0 0 0 0 0 0]\n"
     ]
    }
   ],
   "source": [
    "VariablesSeleccionadas=dataSetNormalizado[:,[3,4,5,6,7,18,24,34,39,40,41]]\n",
    "gmDiag = GaussianMixture(n_components=2, covariance_type = 'diag').fit(dataSetNormalizado)\n",
    "print('A que componente pertenece cada punto con todas las variables seleccionadas: ', gmTied.predict(dataSetNormalizado))"
   ]
  },
  {
   "cell_type": "code",
   "execution_count": 14,
   "id": "4f0eeb77",
   "metadata": {},
   "outputs": [
    {
     "name": "stdout",
     "output_type": "stream",
     "text": [
      "A que componente pertenece cada punto con Post 24h CK:  [1 1 1 1 1 1 1 1 1 1 0 0 0 0 0 0 0 0 0 0 0 0]\n"
     ]
    }
   ],
   "source": [
    "VariablesSeleccionadas=dataSetNormalizado[:,[18]]\n",
    "gmDiag = GaussianMixture(n_components=2, covariance_type = 'diag').fit(dataSetNormalizado)\n",
    "print('A que componente pertenece cada punto con Post 24h CK: ', gmTied.predict(dataSetNormalizado))"
   ]
  },
  {
   "cell_type": "code",
   "execution_count": 15,
   "id": "2d0df42b",
   "metadata": {},
   "outputs": [
    {
     "name": "stdout",
     "output_type": "stream",
     "text": [
      "A que componente pertenece cada punto con CL 0:  [1 1 1 1 1 1 1 1 1 1 0 0 0 0 0 0 0 0 0 0 0 0]\n"
     ]
    }
   ],
   "source": [
    "VariablesSeleccionadas=dataSetNormalizado[:,[24]]\n",
    "gmDiag = GaussianMixture(n_components=2, covariance_type = 'diag').fit(dataSetNormalizado)\n",
    "print('A que componente pertenece cada punto con CL 0: ', gmTied.predict(dataSetNormalizado))"
   ]
  },
  {
   "cell_type": "code",
   "execution_count": 20,
   "id": "e908bacc",
   "metadata": {},
   "outputs": [
    {
     "name": "stdout",
     "output_type": "stream",
     "text": [
      "A que componente pertenece cada punto con CL 0:  [1 1 1 1 1 1 1 1 1 1 0 0 0 0 0 0 0 0 0 0 0 0]\n"
     ]
    }
   ],
   "source": [
    "VariablesSeleccionadas=dataSetNormalizado[:,[1]]\n",
    "gmDiag = GaussianMixture(n_components=2, covariance_type = 'diag').fit(dataSetNormalizado)\n",
    "print('A que componente pertenece cada punto con CL 0: ', gmTied.predict(dataSetNormalizado))"
   ]
  },
  {
   "cell_type": "code",
   "execution_count": 16,
   "id": "71da8341",
   "metadata": {},
   "outputs": [
    {
     "name": "stdout",
     "output_type": "stream",
     "text": [
      "A que componente pertenece cada punto con GLUC 0:  [1 1 1 1 1 1 1 1 1 1 0 0 0 0 0 0 0 0 0 0 0 0]\n"
     ]
    }
   ],
   "source": [
    "VariablesSeleccionadas=dataSetNormalizado[:,[34]]\n",
    "gmDiag = GaussianMixture(n_components=2, covariance_type = 'diag').fit(dataSetNormalizado)\n",
    "print('A que componente pertenece cada punto con GLUC 0: ', gmTied.predict(dataSetNormalizado))"
   ]
  },
  {
   "cell_type": "code",
   "execution_count": 17,
   "id": "d39ebebf",
   "metadata": {},
   "outputs": [
    {
     "name": "stdout",
     "output_type": "stream",
     "text": [
      "A que componente pertenece cada punto con Post SBP 0:  [1 1 1 1 1 1 1 1 1 1 0 0 0 0 0 0 0 0 0 0 0 0]\n"
     ]
    }
   ],
   "source": [
    "VariablesSeleccionadas=dataSetNormalizado[:,[39]]\n",
    "gmDiag = GaussianMixture(n_components=2, covariance_type = 'diag').fit(dataSetNormalizado)\n",
    "print('A que componente pertenece cada punto con Post SBP 0: ', gmTied.predict(dataSetNormalizado))"
   ]
  },
  {
   "cell_type": "code",
   "execution_count": 18,
   "id": "29f3443d",
   "metadata": {},
   "outputs": [
    {
     "name": "stdout",
     "output_type": "stream",
     "text": [
      "A que componente pertenece cada punto con Post DBP:  [1 1 1 1 1 1 1 1 1 1 0 0 0 0 0 0 0 0 0 0 0 0]\n"
     ]
    }
   ],
   "source": [
    "VariablesSeleccionadas=dataSetNormalizado[:,[40]]\n",
    "gmDiag = GaussianMixture(n_components=2, covariance_type = 'diag').fit(dataSetNormalizado)\n",
    "print('A que componente pertenece cada punto con Post DBP: ', gmTied.predict(dataSetNormalizado))"
   ]
  },
  {
   "cell_type": "code",
   "execution_count": 19,
   "id": "7b0f8349",
   "metadata": {},
   "outputs": [
    {
     "name": "stdout",
     "output_type": "stream",
     "text": [
      "A que componente pertenece cada punto con Post SBP 3:  [1 1 1 1 1 1 1 1 1 1 0 0 0 0 0 0 0 0 0 0 0 0]\n"
     ]
    }
   ],
   "source": [
    "VariablesSeleccionadas=dataSetNormalizado[:,[41]]\n",
    "gmDiag = GaussianMixture(n_components=2, covariance_type = 'diag').fit(dataSetNormalizado)\n",
    "print('A que componente pertenece cada punto con Post SBP 3: ', gmTied.predict(dataSetNormalizado))"
   ]
  },
  {
   "cell_type": "code",
   "execution_count": null,
   "id": "54ffa308",
   "metadata": {},
   "outputs": [],
   "source": []
  }
 ],
 "metadata": {
  "kernelspec": {
   "display_name": "Python 3",
   "language": "python",
   "name": "python3"
  },
  "language_info": {
   "codemirror_mode": {
    "name": "ipython",
    "version": 3
   },
   "file_extension": ".py",
   "mimetype": "text/x-python",
   "name": "python",
   "nbconvert_exporter": "python",
   "pygments_lexer": "ipython3",
   "version": "3.8.8"
  }
 },
 "nbformat": 4,
 "nbformat_minor": 5
}
