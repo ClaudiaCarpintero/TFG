{
 "cells": [
  {
   "cell_type": "code",
   "execution_count": 9,
   "id": "07558f80",
   "metadata": {},
   "outputs": [
    {
     "name": "stdout",
     "output_type": "stream",
     "text": [
      "Precision de la variable: 0.8181818181818182\n",
      "Posición de la variable: 3\n",
      "Precision de la variable: 0.9090909090909091\n",
      "Posición de la variable: 4\n",
      "Precision de la variable: 0.9090909090909091\n",
      "Posición de la variable: 5\n",
      "Precision de la variable: 1.0\n",
      "Posición de la variable: 6\n",
      "Precision de la variable: 0.9090909090909091\n",
      "Posición de la variable: 7\n",
      "Precision de la variable: 1.0\n",
      "Posición de la variable: 18\n",
      "Precision de la variable: 0.8636363636363636\n",
      "Posición de la variable: 24\n",
      "Precision de la variable: 0.8181818181818182\n",
      "Posición de la variable: 28\n",
      "Precision de la variable: 0.8181818181818182\n",
      "Posición de la variable: 34\n",
      "Precision de la variable: 0.8636363636363636\n",
      "Posición de la variable: 40\n",
      "Precision de la variable: 0.8636363636363636\n",
      "Posición de la variable: 41\n"
     ]
    }
   ],
   "source": [
    "import pandas as pd\n",
    "import numpy as np\n",
    "import matplotlib.pyplot as plt\n",
    "import seaborn as sb\n",
    "from sklearn.model_selection import LeaveOneOut\n",
    "from sklearn.linear_model import LogisticRegression\n",
    "\n",
    "#Leemos los archivos del fichero\n",
    "\n",
    "ciclistas = open ('/Users/34603/Desktop/TFG/Python/ciclistasVariablesSinNormalizarNiNombres.txt','r')\n",
    "dataSet = list()\n",
    "labels = list()\n",
    "\n",
    "for linea in ciclistas: #Recorremos cada linea del archivo\n",
    "    caracteristicas = linea.split()\n",
    "    clase = 1 if caracteristicas[0] == \"Profesional\" else 0\n",
    "    labels.append(clase)\n",
    "    variables=[float(elemento) for elemento in caracteristicas[1:]]\n",
    "    dataSet.append(variables)\n",
    "dataSet=np.array(dataSet)\n",
    "labels=np.array(labels)\n",
    "num_variables = len(dataSet[0])\n",
    "CC=np.linspace(0.01,2.0,20)\n",
    "modelos= list()\n",
    "accuracy = list()\n",
    "\n",
    "#Se normalizan las variables\n",
    "mu=np.mean(dataSet,axis=0)\n",
    "sigma=np.std(dataSet,axis=0)\n",
    "datasetNormalizado = ((dataSet-mu)/sigma)\n",
    "\n",
    "#Precisión con cada variables para determinar las que mejor clasifican\n",
    "for i in range(num_variables):\n",
    "    data = datasetNormalizado[:,i:i+1]\n",
    "\n",
    "    #se crean los conjunto de entrenamiento y de testeo con \"leave-one-out\"\n",
    "    loo = LeaveOneOut()\n",
    "    loo.get_n_splits(data)\n",
    "\n",
    "    modelos = [LogisticRegression(penalty = 'l2', max_iter= 1000)]\n",
    "    for modelo in modelos:\n",
    "        precisionModelo= list()\n",
    "        for train_index, test_index in loo.split(data):\n",
    "            prediccion=modelo.fit(data[train_index],labels[train_index]).predict(data[test_index])\n",
    "            if prediccion != labels[test_index]:\n",
    "                precisionModelo.append(0)\n",
    "            else:\n",
    "                precisionModelo.append(1)\n",
    "        accuracy.append(sum(precisionModelo)/len(precisionModelo))\n",
    "i=-1\n",
    "for precision in accuracy:\n",
    "    i=i+1\n",
    "    if (precision>0.8):\n",
    "        print('Precision de la variable: ' + str(precision))\n",
    "        print('Posición de la variable: ' + str(i))\n"
   ]
  },
  {
   "cell_type": "code",
   "execution_count": 10,
   "id": "cd182b7b",
   "metadata": {},
   "outputs": [
    {
     "data": {
      "image/png": "[encoded data removed]",
      "text/plain": [
       "<Figure size 432x288 with 1 Axes>"
      ]
     },
     "metadata": {
      "needs_background": "light"
     },
     "output_type": "display_data"
    }
   ],
   "source": [
    "#Se calcula la precisión del modelo con todas las variables\n",
    "modelos= list()\n",
    "accuracy = list()\n",
    "\n",
    "\n",
    "#Se crean los modelos para cada parámetro de regularización C\n",
    "for i in CC:\n",
    "    modelos.append(LogisticRegression(penalty = 'l2', C = i, max_iter= 1000))\n",
    "\n",
    "\n",
    "for modelo in modelos:\n",
    "    precisionModelo= list()\n",
    "    for train_index, test_index in loo.split(datasetNormalizado):\n",
    "        prediccion=modelo.fit(datasetNormalizado[train_index],labels[train_index]).predict(datasetNormalizado[test_index])\n",
    "        if prediccion != labels[test_index]:\n",
    "            precisionModelo.append(0)\n",
    "        else:\n",
    "            precisionModelo.append(1)\n",
    "    accuracy.append(sum(precisionModelo)/len(precisionModelo))\n",
    "\n",
    "#Se crea la gráfica\n",
    "figRegresionLogistica = plt.figure()\n",
    "ax1 = figRegresionLogistica.add_subplot(111)\n",
    " # Establecer título\n",
    "ax1.set_title('Precisión del modelo regresión logística', fontsize=15)\n",
    " # Establecer etiquetas de eje X\n",
    "plt.xlabel('Valor del parámetro de regularización (C)', fontsize=15)\n",
    " # Establecer etiqueta del eje Y\n",
    "plt.ylabel('precisión',fontsize=15)\n",
    "\n",
    " # Dibujar diagrama de dispersión\n",
    "ax1.scatter(CC,accuracy,c = 'r',marker = 'o' )\n",
    "plt.show()\n",
    "\n"
   ]
  },
  {
   "cell_type": "code",
   "execution_count": null,
   "id": "b2fc8a78",
   "metadata": {},
   "outputs": [],
   "source": []
  }
 ],
 "metadata": {
  "kernelspec": {
   "display_name": "Python 3",
   "language": "python",
   "name": "python3"
  },
  "language_info": {
   "codemirror_mode": {
    "name": "ipython",
    "version": 3
   },
   "file_extension": ".py",
   "mimetype": "text/x-python",
   "name": "python",
   "nbconvert_exporter": "python",
   "pygments_lexer": "ipython3",
   "version": "3.8.8"
  }
 },
 "nbformat": 4,
 "nbformat_minor": 5
}
