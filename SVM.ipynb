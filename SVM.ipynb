{
 "cells": [
  {
   "cell_type": "code",
   "execution_count": 1,
   "id": "09ed7696",
   "metadata": {},
   "outputs": [],
   "source": [
    "import pandas as pd\n",
    "import numpy as np\n",
    "import matplotlib.pyplot as plt\n",
    "import seaborn as sb\n",
    "from sklearn.model_selection import LeaveOneOut\n",
    "from sklearn.pipeline import make_pipeline\n",
    "from sklearn.preprocessing import StandardScaler\n",
    "from sklearn.svm import SVC\n",
    "\n",
    "#Leemos los archivos del fichero\n",
    "\n",
    "ciclistas = open ('/Users/34603/Desktop/TFG/Python/ciclistasVariablesSinNormalizarNiNombres.txt','r')\n",
    "dataSet = list()\n",
    "labels = list()\n",
    "\n",
    "for linea in ciclistas: #Recorremos cada linea del archivo\n",
    "    caracteristicas = linea.split()\n",
    "    clase = 1 if caracteristicas[0] == \"Profesional\" else 0\n",
    "    labels.append(clase)\n",
    "    variables=[float(elemento) for elemento in caracteristicas[1:]]\n",
    "    dataSet.append(variables)\n",
    "dataSet=np.array(dataSet)\n",
    "labels=np.array(labels)\n",
    "num_variables = len(dataSet[0])\n",
    "\n",
    "#Se normaizan las variables\n",
    "mu=np.mean(dataSet,axis=0)\n",
    "sigma=np.std(dataSet,axis=0)\n",
    "dataSetNormalizado = ((dataSet-mu)/sigma)\n",
    "\n"
   ]
  },
  {
   "cell_type": "code",
   "execution_count": 3,
   "id": "293dcf8a",
   "metadata": {},
   "outputs": [],
   "source": [
    "#se crean los conjunto de entrenamiento y de testeo con \"leave-one-out\"\n",
    "loo = LeaveOneOut()\n",
    "loo.get_n_splits(dataSetNormalizado)\n",
    "\n",
    "\n",
    "#Se crea el modelo de SVM con Kernel lineal\n",
    "CC=np.linspace(0.01,100.0,100)\n",
    "modelos= list()\n",
    "accuracy = list()\n",
    "accuracyEntreno = list()\n",
    "for i in CC:\n",
    "    modelos.append(make_pipeline(StandardScaler(), SVC(C=i,kernel = 'linear')))\n",
    "\n",
    "#Se entrenan y evaluan los modelos según el conjunto de test:\n",
    "for modelo in modelos:\n",
    "    precisionModelo= list()\n",
    "    for train_index, test_index in loo.split(dataSet):\n",
    "        prediccion=modelo.fit(dataSetNormalizado[train_index],labels[train_index]).predict(dataSetNormalizado[test_index])\n",
    "        if prediccion != labels[test_index]:\n",
    "            precisionModelo.append(0)\n",
    "        else:\n",
    "            precisionModelo.append(1)\n",
    "    accuracy.append(sum(precisionModelo)/len(precisionModelo))\n",
    "    \n",
    "#Se entrenan y evaluan los modelos según el conjunto de entrenamiento:\n",
    "for modelo in modelos:\n",
    "    precisionModelo= list()\n",
    "    for train_index, test_index in loo.split(dataSet):\n",
    "        prediccion=modelo.fit(dataSetNormalizado[train_index],labels[train_index]).predict(dataSetNormalizado[train_index])\n",
    "        k=0\n",
    "        for pred in prediccion:\n",
    "            k=+1\n",
    "        if pred != labels[train_index[k]]:\n",
    "            precisionModelo.append(0)\n",
    "        else:\n",
    "            precisionModelo.append(1)\n",
    "    accuracyEntreno.append(sum(precisionModelo)/len(precisionModelo))\n",
    "\n",
    "\n",
    "\n"
   ]
  },
  {
   "cell_type": "code",
   "execution_count": 9,
   "id": "91337d2c",
   "metadata": {},
   "outputs": [
    {
     "data": {
      "image/png": "[encoded data removed]",
      "text/plain": [
       "<Figure size 432x288 with 1 Axes>"
      ]
     },
     "metadata": {
      "needs_background": "light"
     },
     "output_type": "display_data"
    }
   ],
   "source": [
    "#Se crea la gráfica del test\n",
    "figSVM = plt.figure()\n",
    "ax1 = figSVM.add_subplot(111)\n",
    " # Establecer título\n",
    "ax1.set_title('Precisión del modelo SVM con kernel lineal en función del valor del parámetro de regularización (C):')\n",
    " # Establecer etiquetas de eje X\n",
    "plt.xlabel('Valor del parámetro de regularización (C)')\n",
    " # Establecer etiqueta del eje Y\n",
    "plt.ylabel('precisión')\n",
    " # Dibujar diagrama de dispersión\n",
    "ax1.plot(CC,accuracy)\n",
    "plt.show()"
   ]
  },
  {
   "cell_type": "code",
   "execution_count": 5,
   "id": "afc8dc67",
   "metadata": {},
   "outputs": [
    {
     "name": "stdout",
     "output_type": "stream",
     "text": [
      "[0.2727272727272727, 0.3181818181818182, 0.5909090909090909, 0.8181818181818182, 0.8636363636363636, 0.9090909090909091, 1.0, 0.9090909090909091, 0.5, 0.7272727272727273, 0.3181818181818182, 0.5454545454545454, 0.7272727272727273, 0.3181818181818182, 0.3181818181818182, 0.3181818181818182, 0.6818181818181818, 0.6363636363636364, 1.0, 0.5, 0.3181818181818182, 0.22727272727272727, 0.36363636363636365, 0.45454545454545453, 0.8636363636363636, 0.7727272727272727, 0.6818181818181818, 0.7272727272727273, 0.8181818181818182, 0.7727272727272727, 0.3181818181818182, 0.36363636363636365, 0.5, 0.6818181818181818, 0.7272727272727273, 0.6818181818181818, 0.45454545454545453, 0.4090909090909091, 0.2727272727272727, 0.9090909090909091, 0.9545454545454546, 0.8636363636363636, 0.7272727272727273, 0.6818181818181818, 0.4090909090909091, 0.6363636363636364, 0.6363636363636364, 0.4090909090909091, 0.7727272727272727, 0.6363636363636364, 0.5454545454545454, 0.3181818181818182, 0.5454545454545454, 0.4090909090909091, 0.45454545454545453, 0.6363636363636364, 0.5, 0.5, 0.5909090909090909, 0.5, 0.3181818181818182, 0.5, 0.36363636363636365, 0.36363636363636365, 0.5909090909090909, 0.36363636363636365]\n",
      "Precision de la variable: 0.8181818181818182\n",
      "Posición de la variable: 3\n",
      "Precision de la variable: 0.8636363636363636\n",
      "Posición de la variable: 4\n",
      "Precision de la variable: 0.9090909090909091\n",
      "Posición de la variable: 5\n",
      "Precision de la variable: 1.0\n",
      "Posición de la variable: 6\n",
      "Precision de la variable: 0.9090909090909091\n",
      "Posición de la variable: 7\n",
      "Precision de la variable: 1.0\n",
      "Posición de la variable: 18\n",
      "Precision de la variable: 0.8636363636363636\n",
      "Posición de la variable: 24\n",
      "Precision de la variable: 0.8181818181818182\n",
      "Posición de la variable: 28\n",
      "Precision de la variable: 0.9090909090909091\n",
      "Posición de la variable: 39\n",
      "Precision de la variable: 0.9545454545454546\n",
      "Posición de la variable: 40\n",
      "Precision de la variable: 0.8636363636363636\n",
      "Posición de la variable: 41\n"
     ]
    }
   ],
   "source": [
    "modelos= list()\n",
    "accuracy = list()\n",
    "\n",
    "for i in range(num_variables):\n",
    "    data = dataSetNormalizado[:,i:i+1]\n",
    "\n",
    "    #se crean los conjunto de entrenamiento y de testeo con \"leave-one-out\"\n",
    "    loo = LeaveOneOut()\n",
    "    loo.get_n_splits(data)\n",
    "\n",
    "    modelos = [make_pipeline(StandardScaler(), SVC(kernel = 'linear'))]\n",
    "    for modelo in modelos:\n",
    "        precisionModelo= list()\n",
    "        for train_index, test_index in loo.split(dataSet):\n",
    "            prediccion=modelo.fit(data[train_index],labels[train_index]).predict(data[test_index])\n",
    "            if prediccion != labels[test_index]:\n",
    "                precisionModelo.append(0)\n",
    "            else:\n",
    "                precisionModelo.append(1)\n",
    "        accuracy.append(sum(precisionModelo)/len(precisionModelo))\n",
    "print(accuracy)\n",
    "\n",
    "i=-1\n",
    "for precision in accuracy:\n",
    "    i=i+1\n",
    "    if (precision>0.8):\n",
    "        print('Precision de la variable: ' + str(precision))\n",
    "        print('Posición de la variable: ' + str(i))"
   ]
  },
  {
   "cell_type": "code",
   "execution_count": 4,
   "id": "340d0a8e",
   "metadata": {},
   "outputs": [
    {
     "data": {
      "image/png": "[encoded data removed]",
      "text/plain": [
       "<Figure size 432x288 with 1 Axes>"
      ]
     },
     "metadata": {
      "needs_background": "light"
     },
     "output_type": "display_data"
    }
   ],
   "source": [
    "#Se crea la gráfica del train\n",
    "figSVM = plt.figure()\n",
    "ax1 = figSVM.add_subplot(111)\n",
    " # Establecer título\n",
    "ax1.set_title('Precisión del modelo SVM con kernel lineal en función del valor del parámetro de regularización (C):')\n",
    " # Establecer etiquetas de eje X\n",
    "plt.xlabel('Valor del parámetro de regularización (C)')\n",
    " # Establecer etiqueta del eje Y\n",
    "plt.ylabel('precisión')\n",
    " # Dibujar diagrama de dispersión\n",
    "ax1.plot(CC,accuracyEntreno)\n",
    "plt.show()"
   ]
  },
  {
   "cell_type": "code",
   "execution_count": null,
   "id": "eb809f6f",
   "metadata": {},
   "outputs": [],
   "source": []
  }
 ],
 "metadata": {
  "kernelspec": {
   "display_name": "Python 3",
   "language": "python",
   "name": "python3"
  },
  "language_info": {
   "codemirror_mode": {
    "name": "ipython",
    "version": 3
   },
   "file_extension": ".py",
   "mimetype": "text/x-python",
   "name": "python",
   "nbconvert_exporter": "python",
   "pygments_lexer": "ipython3",
   "version": "3.8.8"
  }
 },
 "nbformat": 4,
 "nbformat_minor": 5
}
