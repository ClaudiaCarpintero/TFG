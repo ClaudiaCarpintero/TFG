{
 "cells": [
  {
   "cell_type": "code",
   "execution_count": 19,
   "id": "4af0c50f",
   "metadata": {},
   "outputs": [],
   "source": [
    "import pandas as pd\n",
    "import numpy as np\n",
    "import matplotlib.pyplot as plt\n",
    "import seaborn as sb\n",
    "from sklearn.mixture import GaussianMixture\n",
    "\n",
    "#Se leen los datos del fichero\n",
    "ciclistas = open ('/Users/34603/Desktop/TFG/Python/ciclistasVariablesSinNormalizarNiNombres.txt','r')\n",
    "dataSet = list()\n",
    "labels = list()\n",
    "\n",
    "for linea in ciclistas: #Recorremos cada linea del archivo\n",
    "    caracteristicas = linea.split()\n",
    "    k=0\n",
    "    for elemento in caracteristicas:\n",
    "        if k==0:\n",
    "            clase = 1 if caracteristicas[k] == \"Profesional\" else 0\n",
    "            labels.append(clase)\n",
    "            k=k+1\n",
    "    variables=[float(elemento) for elemento in caracteristicas[1:]]\n",
    "    dataSet.append(variables)\n",
    "dataSet=np.array(dataSet) \n",
    "labels=np.array(labels)\n",
    "\n",
    "num_variables=len(dataSet[1,:])\n",
    "num_individuos=len(dataSet[:,1])"
   ]
  },
  {
   "cell_type": "code",
   "execution_count": 20,
   "id": "0e3d3f69",
   "metadata": {},
   "outputs": [],
   "source": [
    "#Se recomienda tener los datos normalizados\n",
    "mu=np.mean(dataSet,axis=0)\n",
    "sigma=np.std(dataSet,axis=0)\n",
    "dataSetNormalizado = ((dataSet-mu)/sigma)\n"
   ]
  },
  {
   "cell_type": "code",
   "execution_count": 21,
   "id": "49696a0b",
   "metadata": {},
   "outputs": [
    {
     "name": "stdout",
     "output_type": "stream",
     "text": [
      "Propiedades del modelo diag: \n",
      "A que componente pertenece cada punto:  [1 1 1 1 1 1 1 1 1 1 0 0 0 0 0 0 1 1 0 0 0 0]\n",
      "Probabilidad de generar puntos cada componente:  [0.45454943 0.54545057]\n",
      "Propiedades del modelo Full: \n",
      "A que componente pertenece cada punto:  [1 1 1 1 1 0 1 1 1 0 0 0 0 0 0 0 0 0 0 0 0 0]\n",
      "Probabilidad de generar puntos cada componente:  [0.63636364 0.36363636]\n",
      "Propiedades del modelo Tied: \n",
      "A que componente pertenece cada punto:  [0 0 0 0 0 0 0 0 0 1 1 1 1 1 1 1 1 1 1 1 1 1]\n",
      "Probabilidad de generar puntos cada componente:  [0.40909091 0.59090909]\n",
      "Propiedades del modelo Spherical: \n",
      "A que componente pertenece cada punto:  [0 0 0 0 0 0 0 0 0 0 1 1 1 1 1 1 1 1 1 1 1 1]\n",
      "Probabilidad de generar puntos cada componente:  [0.45454546 0.54545454]\n"
     ]
    }
   ],
   "source": [
    "#Se crean las distinas variantes de EM:\n",
    "gmDiag = GaussianMixture(n_components=2, covariance_type = 'diag').fit(dataSetNormalizado)\n",
    "gmFull = GaussianMixture(n_components=2, covariance_type = 'full').fit(dataSetNormalizado)\n",
    "gmTied = GaussianMixture(n_components=2, covariance_type = 'tied').fit(dataSetNormalizado)\n",
    "gmSpherical = GaussianMixture(n_components=2, covariance_type = 'spherical').fit(dataSetNormalizado)\n",
    "\n",
    "print('Propiedades del modelo diag: ')\n",
    "#print('La media de cada componente:', gmDiag.means_)\n",
    "print('A que componente pertenece cada punto: ', gmDiag.predict(dataSetNormalizado))\n",
    "print('Probabilidad de generar puntos cada componente: ', gmDiag.weights_)\n",
    "#print('La probabilidad de que cada punto pertenezca a una gausiana: ', gmDiag.predict_proba(dataSetNormalizado))\n",
    "print('Propiedades del modelo Full: ')\n",
    "#print('La media de cada componente:', gmFull.means_)\n",
    "print('A que componente pertenece cada punto: ', gmFull.predict(dataSetNormalizado))\n",
    "print('Probabilidad de generar puntos cada componente: ', gmFull.weights_)\n",
    "#print('La probabilidad de que cada punto pertenezca a una gausiana: ', gmFull.predict_proba(dataSetNormalizado))\n",
    "print('Propiedades del modelo Tied: ')\n",
    "#print('La media de cada componente:', gmTied.means_)\n",
    "print('A que componente pertenece cada punto: ', gmTied.predict(dataSetNormalizado))\n",
    "print('Probabilidad de generar puntos cada componente: ', gmTied.weights_)\n",
    "#print('La probabilidad de que cada punto pertenezca a una gausiana: ', gmTied.predict_proba(dataSetNormalizado))\n",
    "print('Propiedades del modelo Spherical: ')\n",
    "#print('La media de cada componente:', gmSpherical.means_)\n",
    "print('A que componente pertenece cada punto: ', gmSpherical.predict(dataSetNormalizado))\n",
    "print('Probabilidad de generar puntos cada componente: ', gmSpherical.weights_)\n",
    "#print('La probabilidad de que cada punto pertenezca a una gausiana: ', gmSpherical.predict_proba(dataSetNormalizado))\n"
   ]
  },
  {
   "cell_type": "code",
   "execution_count": 22,
   "id": "49d0fa3a",
   "metadata": {},
   "outputs": [
    {
     "name": "stdout",
     "output_type": "stream",
     "text": [
      "A que componente pertenece cada punto según las variables seleccionadas sin las de potencia:  [1 1 1 1 1 0 1 1 1 0 0 0 0 0 0 0 0 0 0 0 0 0]\n"
     ]
    }
   ],
   "source": [
    "VariablesSeleccionadas=dataSetNormalizado[:,[18,24,34,39,40,41]]\n",
    "gmDiag = GaussianMixture(n_components=2, covariance_type = 'diag').fit(VariablesSeleccionadas)\n",
    "print('A que componente pertenece cada punto según las variables seleccionadas sin las de potencia: ', gmDiag.predict(VariablesSeleccionadas))"
   ]
  },
  {
   "cell_type": "code",
   "execution_count": 23,
   "id": "c3b3de09",
   "metadata": {},
   "outputs": [
    {
     "name": "stdout",
     "output_type": "stream",
     "text": [
      "A que componente pertenece cada punto con todas las variables seleccionadas:  [1 1 1 1 1 1 1 1 1 1 0 0 0 0 0 0 0 0 0 0 0 0]\n"
     ]
    }
   ],
   "source": [
    "VariablesSeleccionadas=dataSetNormalizado[:,[3,4,5,6,7,18,24,34,39,40,41]]\n",
    "gmDiag = GaussianMixture(n_components=2, covariance_type = 'diag').fit(VariablesSeleccionadas)\n",
    "print('A que componente pertenece cada punto con todas las variables seleccionadas: ', gmDiag.predict(VariablesSeleccionadas))"
   ]
  },
  {
   "cell_type": "code",
   "execution_count": 24,
   "id": "4f0eeb77",
   "metadata": {},
   "outputs": [
    {
     "name": "stdout",
     "output_type": "stream",
     "text": [
      "A que componente pertenece cada punto con Post 24h CK:  [1 1 1 1 1 1 1 1 1 1 0 0 0 0 0 0 0 0 0 0 0 0]\n"
     ]
    }
   ],
   "source": [
    "VariablesSeleccionadas=dataSetNormalizado[:,[18]]\n",
    "gmDiag = GaussianMixture(n_components=2, covariance_type = 'diag').fit(VariablesSeleccionadas)\n",
    "print('A que componente pertenece cada punto con Post 24h CK: ', gmDiag.predict(VariablesSeleccionadas))"
   ]
  },
  {
   "cell_type": "code",
   "execution_count": 25,
   "id": "2d0df42b",
   "metadata": {},
   "outputs": [
    {
     "name": "stdout",
     "output_type": "stream",
     "text": [
      "A que componente pertenece cada punto con CL 0:  [1 0 1 0 1 1 1 1 1 1 0 0 0 0 0 0 0 0 0 0 1 0]\n"
     ]
    }
   ],
   "source": [
    "VariablesSeleccionadas=dataSetNormalizado[:,[24]]\n",
    "gmDiag = GaussianMixture(n_components=2, covariance_type = 'diag').fit(VariablesSeleccionadas)\n",
    "print('A que componente pertenece cada punto con CL 0: ', gmDiag.predict(VariablesSeleccionadas))"
   ]
  },
  {
   "cell_type": "code",
   "execution_count": 8,
   "id": "e908bacc",
   "metadata": {},
   "outputs": [
    {
     "name": "stdout",
     "output_type": "stream",
     "text": [
      "A que componente pertenece cada punto con CL 0:  [0 0 0 0 1 0 1 1 1 0 1 1 1 0 1 0 1 1 0 1 0 0]\n"
     ]
    }
   ],
   "source": [
    "VariablesSeleccionadas=dataSetNormalizado[:,[1]]\n",
    "gmDiag = GaussianMixture(n_components=2, covariance_type = 'diag').fit(VariablesSeleccionadas)\n",
    "print('A que componente pertenece cada punto con peso: ', gmDiag.predict(VariablesSeleccionadas))"
   ]
  },
  {
   "cell_type": "code",
   "execution_count": 9,
   "id": "71da8341",
   "metadata": {},
   "outputs": [
    {
     "name": "stdout",
     "output_type": "stream",
     "text": [
      "A que componente pertenece cada punto con GLUC 0:  [1 1 0 1 1 0 1 1 1 1 0 0 0 0 0 0 0 0 0 0 0 0]\n"
     ]
    }
   ],
   "source": [
    "VariablesSeleccionadas=dataSetNormalizado[:,[34]]\n",
    "gmDiag = GaussianMixture(n_components=2, covariance_type = 'diag').fit(VariablesSeleccionadas)\n",
    "print('A que componente pertenece cada punto con GLUC 0: ', gmDiag.predict(VariablesSeleccionadas))"
   ]
  },
  {
   "cell_type": "code",
   "execution_count": 10,
   "id": "d39ebebf",
   "metadata": {},
   "outputs": [
    {
     "name": "stdout",
     "output_type": "stream",
     "text": [
      "A que componente pertenece cada punto con Post SBP 0:  [0 0 0 0 0 0 0 0 0 1 1 1 0 0 1 1 0 1 1 1 1 1]\n"
     ]
    }
   ],
   "source": [
    "VariablesSeleccionadas=dataSetNormalizado[:,[39]]\n",
    "gmDiag = GaussianMixture(n_components=2, covariance_type = 'diag').fit(VariablesSeleccionadas)\n",
    "print('A que componente pertenece cada punto con Post SBP 0: ', gmDiag.predict(VariablesSeleccionadas))"
   ]
  },
  {
   "cell_type": "code",
   "execution_count": 11,
   "id": "29f3443d",
   "metadata": {},
   "outputs": [
    {
     "name": "stdout",
     "output_type": "stream",
     "text": [
      "A que componente pertenece cada punto con Post DBP:  [1 1 1 1 1 1 1 1 1 1 1 0 0 0 0 1 0 0 0 1 0 0]\n"
     ]
    }
   ],
   "source": [
    "VariablesSeleccionadas=dataSetNormalizado[:,[40]]\n",
    "gmDiag = GaussianMixture(n_components=2, covariance_type = 'diag').fit(VariablesSeleccionadas)\n",
    "print('A que componente pertenece cada punto con Post DBP: ', gmDiag.predict(VariablesSeleccionadas))"
   ]
  },
  {
   "cell_type": "code",
   "execution_count": 12,
   "id": "7b0f8349",
   "metadata": {},
   "outputs": [
    {
     "name": "stdout",
     "output_type": "stream",
     "text": [
      "A que componente pertenece cada punto con Post SBP 3:  [1 1 1 1 1 0 1 1 1 0 0 0 0 1 0 0 0 0 0 0 0 0]\n"
     ]
    }
   ],
   "source": [
    "VariablesSeleccionadas=dataSetNormalizado[:,[41]]\n",
    "gmDiag = GaussianMixture(n_components=2, covariance_type = 'diag').fit(VariablesSeleccionadas)\n",
    "print('A que componente pertenece cada punto con Post SBP 3: ', gmDiag.predict(VariablesSeleccionadas))"
   ]
  },
  {
   "cell_type": "code",
   "execution_count": 15,
   "id": "54ffa308",
   "metadata": {},
   "outputs": [
    {
     "name": "stdout",
     "output_type": "stream",
     "text": [
      "A que componente pertenece cada punto con Post SBP 3:  [0 0 0 0 0 0 0 1 0 0 1 1 1 1 1 1 1 1 1 1 1 1]\n"
     ]
    }
   ],
   "source": [
    "VariablesSeleccionadas=dataSetNormalizado[:,[6]]\n",
    "gmDiag = GaussianMixture(n_components=2, covariance_type = 'diag').fit(VariablesSeleccionadas)\n",
    "print('A que componente pertenece cada punto con Post SBP 3: ', gmDiag.predict(VariablesSeleccionadas))"
   ]
  },
  {
   "cell_type": "code",
   "execution_count": null,
   "id": "fdf659ba",
   "metadata": {},
   "outputs": [],
   "source": []
  }
 ],
 "metadata": {
  "kernelspec": {
   "display_name": "Python 3",
   "language": "python",
   "name": "python3"
  },
  "language_info": {
   "codemirror_mode": {
    "name": "ipython",
    "version": 3
   },
   "file_extension": ".py",
   "mimetype": "text/x-python",
   "name": "python",
   "nbconvert_exporter": "python",
   "pygments_lexer": "ipython3",
   "version": "3.8.8"
  }
 },
 "nbformat": 4,
 "nbformat_minor": 5
}
