{
 "cells": [
  {
   "cell_type": "code",
   "execution_count": 1,
   "id": "a323ef55",
   "metadata": {},
   "outputs": [],
   "source": [
    "import pandas as pd\n",
    "import numpy as np\n",
    "import matplotlib.pyplot as plt\n",
    "import seaborn as sb\n",
    "from sklearn.cluster import KMeans\n",
    "from sklearn.metrics import pairwise_distances_argmin_min\n",
    "from mpl_toolkits.mplot3d import Axes3D"
   ]
  },
  {
   "cell_type": "code",
   "execution_count": 2,
   "id": "284f5c96",
   "metadata": {},
   "outputs": [],
   "source": [
    "#Se leen los datos del fichero\n",
    "ciclistas = open ('/Users/34603/Desktop/TFG/Python/ciclistasVariablesSinNormalizarNiNombres.txt','r')\n",
    "dataSet = list()\n",
    "labels = list()\n",
    "\n",
    "for linea in ciclistas: #Recorremos cada linea del archivo\n",
    "    caracteristicas = linea.split()\n",
    "    k=0\n",
    "    for elemento in caracteristicas:\n",
    "        if k==0:\n",
    "            clase = 1 if caracteristicas[k] == \"Profesional\" else 0\n",
    "            labels.append(clase)\n",
    "            k=k+1\n",
    "    variables=[float(elemento) for elemento in caracteristicas[1:]]\n",
    "    dataSet.append(variables)\n",
    "dataSet=np.array(dataSet) \n",
    "labels=np.array(labels)\n",
    "\n",
    "num_variables=len(dataSet[1,:])\n",
    "num_individuos=len(dataSet[:,1])"
   ]
  },
  {
   "cell_type": "code",
   "execution_count": 3,
   "id": "3fecc53c",
   "metadata": {},
   "outputs": [
    {
     "name": "stdout",
     "output_type": "stream",
     "text": [
      "Resultados sin normalizar:\n",
      "Etiquetas de KMeans\n",
      "[1 1 1 0 1 1 1 1 1 0 0 0 0 0 0 0 0 0 0 0 0 0]\n",
      "Etiquetas del dataSet\n",
      "[1 1 1 1 1 1 1 1 1 1 0 0 0 0 0 0 0 0 0 0 0 0]\n",
      "Número de iteraciones ejecutadas\n",
      "3\n",
      "Criterio de parada: \n",
      "568274.7332661266\n",
      "Resultados de KMeans al normalizar las variables:\n",
      "Etiquetas de KMeans\n",
      "[1 1 1 1 1 1 1 1 1 1 0 0 0 0 0 0 0 0 0 0 0 0]\n",
      "Etiquetas del dataSet\n",
      "[1 1 1 1 1 1 1 1 1 1 0 0 0 0 0 0 0 0 0 0 0 0]\n",
      "Número de iteraciones ejecutadas\n",
      "2\n",
      "Criterio de parada: \n",
      "1157.6816186587807\n"
     ]
    }
   ],
   "source": [
    "#Se crea el modelo KMeans\n",
    "kmeans = KMeans(n_clusters=2,n_init=10000)\n",
    "output = kmeans.fit(dataSet).labels_ #Este método realiza la división de nuestros datos\n",
    "#kmeans.cluster_centers_\n",
    "print(\"Resultados sin normalizar:\")\n",
    "print(\"Etiquetas de KMeans\")\n",
    "print(output)\n",
    "print(\"Etiquetas del dataSet\")\n",
    "print(labels)\n",
    "print(\"Número de iteraciones ejecutadas\")\n",
    "print(kmeans.n_iter_)\n",
    "print(\"Criterio de parada: \")\n",
    "print(kmeans.inertia_)\n",
    "\n",
    "\n",
    "#Se normalizan las variables\n",
    "mu=np.mean(dataSet,axis=0)\n",
    "sigma=np.std(dataSet,axis=0)\n",
    "dataSetNormalizad=((dataSet-mu)/sigma)\n",
    "\n",
    "outputNormal = kmeans.fit(dataSetNormalizad).labels_ \n",
    "print(\"Resultados de KMeans al normalizar las variables:\")\n",
    "print(\"Etiquetas de KMeans\")\n",
    "print(outputNormal)\n",
    "print(\"Etiquetas del dataSet\")\n",
    "print(labels)\n",
    "print(\"Número de iteraciones ejecutadas\")\n",
    "print(kmeans.n_iter_)\n",
    "print(\"Criterio de parada: \")\n",
    "print(kmeans.inertia_)"
   ]
  },
  {
   "cell_type": "code",
   "execution_count": 37,
   "id": "f2b837d1",
   "metadata": {
    "scrolled": true
   },
   "outputs": [
    {
     "name": "stdout",
     "output_type": "stream",
     "text": [
      "Resultados de KMeans con las variables seleccionadas:\n",
      "Etiquetas de KMeans\n",
      "[0 0 0 0 0 0 0 0 0 0 1 1 1 1 1 1 1 1 1 1 1 1]\n",
      "Etiquetas del dataSet\n",
      "[1 1 1 1 1 1 1 1 1 1 0 0 0 0 0 0 0 0 0 0 0 0]\n",
      "Número de iteraciones ejecutadas\n",
      "3\n",
      "Criterio de parada: \n",
      "94.82258234517076\n"
     ]
    }
   ],
   "source": [
    "#Se crea el modelo KMeans\n",
    "kmeans = KMeans(n_clusters=2,n_init=10000)\n",
    "output = kmeans.fit(dataSet).labels_ #Este método realiza la división de nuestros datos\n",
    "\n",
    "#Se normalizan las variables\n",
    "mu=np.mean(dataSet,axis=0)\n",
    "sigma=np.std(dataSet,axis=0)\n",
    "dataSetNormalizad=((dataSet-mu)/sigma)\n",
    "\n",
    "#Se seleccionan las variables más informadas\n",
    "VariablesSelec=dataSetNormalizad[:,[3,4,5,6,7,18,24,34,39,40,41]]\n",
    "\n",
    "outputNormal = kmeans.fit(VariablesSelec).labels_ \n",
    "print(\"Resultados de KMeans con las variables seleccionadas:\")\n",
    "print(\"Etiquetas de KMeans\")\n",
    "print(outputNormal)\n",
    "print(\"Etiquetas del dataSet\")\n",
    "print(labels)\n",
    "print(\"Número de iteraciones ejecutadas\")\n",
    "print(kmeans.n_iter_)\n",
    "print(\"Criterio de parada: \")\n",
    "print(kmeans.inertia_)"
   ]
  },
  {
   "cell_type": "code",
   "execution_count": 4,
   "id": "e9cb5fe4",
   "metadata": {},
   "outputs": [
    {
     "name": "stdout",
     "output_type": "stream",
     "text": [
      "Resultados de KMeans con Wingate Mean:\n",
      "Etiquetas de KMeans\n",
      "[0 0 0 1 0 0 0 0 0 0 1 1 1 1 1 1 1 1 1 1 1 0]\n",
      "Etiquetas del dataSet\n",
      "[1 1 1 1 1 1 1 1 1 1 0 0 0 0 0 0 0 0 0 0 0 0]\n",
      "Número de iteraciones ejecutadas\n",
      "3\n",
      "Criterio de parada: \n",
      "4.936773793216468\n"
     ]
    }
   ],
   "source": [
    "#Se crea el modelo KMeans\n",
    "kmeans = KMeans(n_clusters=2,n_init=10000)\n",
    "output = kmeans.fit(dataSet).labels_ #Este método realiza la división de nuestros datos\n",
    "\n",
    "#Se normalizan las variables\n",
    "mu=np.mean(dataSet,axis=0)\n",
    "sigma=np.std(dataSet,axis=0)\n",
    "dataSetNormalizad=((dataSet-mu)/sigma)\n",
    "\n",
    "#Se seleccionan las variables más informadas\n",
    "VariablesSelec=dataSetNormalizad[:,[4]]\n",
    "\n",
    "outputNormal = kmeans.fit(VariablesSelec).labels_ \n",
    "print(\"Resultados de KMeans con Wingate Mean:\")\n",
    "print(\"Etiquetas de KMeans\")\n",
    "print(outputNormal)\n",
    "print(\"Etiquetas del dataSet\")\n",
    "print(labels)\n",
    "print(\"Número de iteraciones ejecutadas\")\n",
    "print(kmeans.n_iter_)\n",
    "print(\"Criterio de parada: \")\n",
    "print(kmeans.inertia_)"
   ]
  },
  {
   "cell_type": "code",
   "execution_count": 35,
   "id": "8d4acdcf",
   "metadata": {},
   "outputs": [
    {
     "name": "stdout",
     "output_type": "stream",
     "text": [
      "Resultados de KMeans con las variables seleccionadas fisiológicas:\n",
      "Etiquetas de KMeans\n",
      "[1 1 1 1 1 0 1 1 1 0 0 0 0 0 0 0 0 0 0 0 0 0]\n",
      "Etiquetas del dataSet\n",
      "[1 1 1 1 1 1 1 1 1 1 0 0 0 0 0 0 0 0 0 0 0 0]\n",
      "Número de iteraciones ejecutadas\n",
      "2\n",
      "Criterio de parada: \n",
      "54.6582110718923\n"
     ]
    }
   ],
   "source": [
    "#Se crea el modelo KMeans\n",
    "kmeans = KMeans(n_clusters=2,n_init=10000)\n",
    "output = kmeans.fit(dataSet).labels_ #Este método realiza la división de nuestros datos\n",
    "\n",
    "#Se normalizan las variables\n",
    "mu=np.mean(dataSet,axis=0)\n",
    "sigma=np.std(dataSet,axis=0)\n",
    "dataSetNormalizad=((dataSet-mu)/sigma)\n",
    "\n",
    "#Se seleccionan las variables más informadas\n",
    "VariablesSelec=dataSetNormalizad[:,[18,24,34,39,40,41]]\n",
    "\n",
    "outputNormal = kmeans.fit(VariablesSelec).labels_ \n",
    "print(\"Resultados de KMeans con las variables seleccionadas fisiológicas:\")\n",
    "print(\"Etiquetas de KMeans\")\n",
    "print(outputNormal)\n",
    "print(\"Etiquetas del dataSet\")\n",
    "print(labels)\n",
    "print(\"Número de iteraciones ejecutadas\")\n",
    "print(kmeans.n_iter_)\n",
    "print(\"Criterio de parada: \")\n",
    "print(kmeans.inertia_)"
   ]
  },
  {
   "cell_type": "code",
   "execution_count": 5,
   "id": "26b66a1b",
   "metadata": {},
   "outputs": [
    {
     "name": "stdout",
     "output_type": "stream",
     "text": [
      "Resultados de KMeans con Power Mean:\n",
      "Etiquetas de KMeans\n",
      "[0 0 0 0 0 0 0 0 0 0 1 1 1 1 1 1 1 1 1 1 1 1]\n",
      "Etiquetas del dataSet\n",
      "[1 1 1 1 1 1 1 1 1 1 0 0 0 0 0 0 0 0 0 0 0 0]\n",
      "Número de iteraciones ejecutadas\n",
      "2\n",
      "Criterio de parada: \n",
      "4.612650661633143\n"
     ]
    }
   ],
   "source": [
    "#Se crea el modelo KMeans\n",
    "kmeans = KMeans(n_clusters=2,n_init=10000)\n",
    "output = kmeans.fit(dataSet).labels_ #Este método realiza la división de nuestros datos\n",
    "\n",
    "#Se normalizan las variables\n",
    "mu=np.mean(dataSet,axis=0)\n",
    "sigma=np.std(dataSet,axis=0)\n",
    "dataSetNormalizad=((dataSet-mu)/sigma)\n",
    "\n",
    "#Se seleccionan las variables más informadas\n",
    "VariablesSelec=dataSetNormalizad[:,[6]]\n",
    "\n",
    "outputNormal = kmeans.fit(VariablesSelec).labels_ \n",
    "print(\"Resultados de KMeans con Power Mean:\")\n",
    "print(\"Etiquetas de KMeans\")\n",
    "print(outputNormal)\n",
    "print(\"Etiquetas del dataSet\")\n",
    "print(labels)\n",
    "print(\"Número de iteraciones ejecutadas\")\n",
    "print(kmeans.n_iter_)\n",
    "print(\"Criterio de parada: \")\n",
    "print(kmeans.inertia_)"
   ]
  },
  {
   "cell_type": "code",
   "execution_count": 33,
   "id": "7c108a12",
   "metadata": {},
   "outputs": [
    {
     "name": "stdout",
     "output_type": "stream",
     "text": [
      "Resultados de KMeans con Wingate Peak:\n",
      "Etiquetas de KMeans\n",
      "[0 0 0 1 1 0 0 0 0 1 1 1 1 1 1 0 1 1 1 1 1 1]\n",
      "Etiquetas del dataSet\n",
      "[1 1 1 1 1 1 1 1 1 1 0 0 0 0 0 0 0 0 0 0 0 0]\n",
      "Número de iteraciones ejecutadas\n",
      "3\n",
      "Criterio de parada: \n",
      "5.318453096634752\n"
     ]
    }
   ],
   "source": [
    "#Se crea el modelo KMeans\n",
    "kmeans = KMeans(n_clusters=2,n_init=10000)\n",
    "output = kmeans.fit(dataSet).labels_ #Este método realiza la división de nuestros datos\n",
    "\n",
    "#Se normalizan las variables\n",
    "mu=np.mean(dataSet,axis=0)\n",
    "sigma=np.std(dataSet,axis=0)\n",
    "dataSetNormalizad=((dataSet-mu)/sigma)\n",
    "\n",
    "#Se seleccionan las variables más informadas\n",
    "VariablesSelec=dataSetNormalizad[:,[3]]\n",
    "\n",
    "outputNormal = kmeans.fit(VariablesSelec).labels_ \n",
    "print(\"Resultados de KMeans con Wingate Peak:\")\n",
    "print(\"Etiquetas de KMeans\")\n",
    "print(outputNormal)\n",
    "print(\"Etiquetas del dataSet\")\n",
    "print(labels)\n",
    "print(\"Número de iteraciones ejecutadas\")\n",
    "print(kmeans.n_iter_)\n",
    "print(\"Criterio de parada: \")\n",
    "print(kmeans.inertia_)"
   ]
  },
  {
   "cell_type": "code",
   "execution_count": 32,
   "id": "1dc8495d",
   "metadata": {},
   "outputs": [
    {
     "name": "stdout",
     "output_type": "stream",
     "text": [
      "Resultados de KMeans con la variable Post 24h CK:\n",
      "Etiquetas de KMeans\n",
      "[1 1 1 1 1 1 1 1 1 1 0 0 0 0 0 0 0 0 0 0 0 0]\n",
      "Etiquetas del dataSet\n",
      "[1 1 1 1 1 1 1 1 1 1 0 0 0 0 0 0 0 0 0 0 0 0]\n",
      "Número de iteraciones ejecutadas\n",
      "3\n",
      "Criterio de parada: \n",
      "31743.16666666666\n"
     ]
    }
   ],
   "source": [
    "#Se crea el modelo KMeans\n",
    "kmeans = KMeans(n_clusters=2,n_init=10000)\n",
    "output = kmeans.fit(dataSet).labels_ #Este método realiza la división de nuestros datos\n",
    "\n",
    "#Se normaizan las variables\n",
    "mu=np.mean(dataSet,axis=0)\n",
    "sigma=np.std(dataSet,axis=0)\n",
    "dataSetNormalizad=((dataSet-mu)/sigma)\n",
    "\n",
    "#Se seleccionan las variables más informadas\n",
    "VariablesSelec=dataSet[:,[18]]\n",
    "\n",
    "outputNormal = kmeans.fit(VariablesSelec).labels_ \n",
    "print(\"Resultados de KMeans con la variable Post 24h CK:\")\n",
    "print(\"Etiquetas de KMeans\")\n",
    "print(outputNormal)\n",
    "print(\"Etiquetas del dataSet\")\n",
    "print(labels)\n",
    "print(\"Número de iteraciones ejecutadas\")\n",
    "print(kmeans.n_iter_)\n",
    "print(\"Criterio de parada: \")\n",
    "print(kmeans.inertia_)"
   ]
  },
  {
   "cell_type": "code",
   "execution_count": 30,
   "id": "7fa9c5f8",
   "metadata": {},
   "outputs": [
    {
     "name": "stdout",
     "output_type": "stream",
     "text": [
      "Resultados de KMeans con la variable CL 0':\n",
      "Etiquetas de KMeans\n",
      "[1 0 1 0 1 1 1 1 1 1 0 0 0 0 0 0 0 0 0 0 1 0]\n",
      "Etiquetas del dataSet\n",
      "[1 1 1 1 1 1 1 1 1 1 0 0 0 0 0 0 0 0 0 0 0 0]\n",
      "Número de iteraciones ejecutadas\n",
      "4\n",
      "Criterio de parada: \n",
      "5.046326997804486\n"
     ]
    }
   ],
   "source": [
    "#Se crea el modelo KMeans\n",
    "kmeans = KMeans(n_clusters=2,n_init=10000)\n",
    "output = kmeans.fit(dataSet).labels_ #Este método realiza la división de nuestros datos\n",
    "\n",
    "#Se normaizan las variables\n",
    "mu=np.mean(dataSet,axis=0)\n",
    "sigma=np.std(dataSet,axis=0)\n",
    "dataSetNormalizad=((dataSet-mu)/sigma)\n",
    "\n",
    "#Se seleccionan las variables más informadas\n",
    "VariablesSelec=dataSetNormalizad[:,[24]]\n",
    "\n",
    "outputNormal = kmeans.fit(VariablesSelec).labels_ \n",
    "print(\"Resultados de KMeans con la variable CL 0':\")\n",
    "print(\"Etiquetas de KMeans\")\n",
    "print(outputNormal)\n",
    "print(\"Etiquetas del dataSet\")\n",
    "print(labels)\n",
    "print(\"Número de iteraciones ejecutadas\")\n",
    "print(kmeans.n_iter_)\n",
    "print(\"Criterio de parada: \")\n",
    "print(kmeans.inertia_)"
   ]
  },
  {
   "cell_type": "code",
   "execution_count": 29,
   "id": "7d1d6291",
   "metadata": {},
   "outputs": [
    {
     "name": "stdout",
     "output_type": "stream",
     "text": [
      "Resultados de KMeans con la variable GLUC 0':\n",
      "Etiquetas de KMeans\n",
      "[0 0 1 0 0 1 0 0 0 0 0 1 1 1 1 1 1 1 1 1 0 1]\n",
      "Etiquetas del dataSet\n",
      "[1 1 1 1 1 1 1 1 1 1 0 0 0 0 0 0 0 0 0 0 0 0]\n",
      "Número de iteraciones ejecutadas\n",
      "2\n",
      "Criterio de parada: \n",
      "7.1934399362088515\n"
     ]
    }
   ],
   "source": [
    "#Se crea el modelo KMeans\n",
    "kmeans = KMeans(n_clusters=2,n_init=10000)\n",
    "output = kmeans.fit(dataSet).labels_ #Este método realiza la división de nuestros datos\n",
    "\n",
    "#Se normalizan las variables\n",
    "mu=np.mean(dataSet,axis=0)\n",
    "sigma=np.std(dataSet,axis=0)\n",
    "dataSetNormalizad=((dataSet-mu)/sigma)\n",
    "\n",
    "#Se seleccionan las variables más informadas\n",
    "VariablesSelec=dataSetNormalizad[:,[34]]\n",
    "\n",
    "outputNormal = kmeans.fit(VariablesSelec).labels_ \n",
    "print(\"Resultados de KMeans con la variable GLUC 0':\")\n",
    "print(\"Etiquetas de KMeans\")\n",
    "print(outputNormal)\n",
    "print(\"Etiquetas del dataSet\")\n",
    "print(labels)\n",
    "print(\"Número de iteraciones ejecutadas\")\n",
    "print(kmeans.n_iter_)\n",
    "print(\"Criterio de parada: \")\n",
    "print(kmeans.inertia_)"
   ]
  },
  {
   "cell_type": "code",
   "execution_count": 28,
   "id": "bd370964",
   "metadata": {},
   "outputs": [
    {
     "name": "stdout",
     "output_type": "stream",
     "text": [
      "Resultados de KMeans con la variable Post SBP 0':\n",
      "Etiquetas de KMeans\n",
      "[0 0 0 0 0 0 0 0 0 1 1 1 0 0 1 1 0 1 1 1 1 1]\n",
      "Etiquetas del dataSet\n",
      "[1 1 1 1 1 1 1 1 1 1 0 0 0 0 0 0 0 0 0 0 0 0]\n",
      "Número de iteraciones ejecutadas\n",
      "2\n",
      "Criterio de parada: \n",
      "5.725248508946321\n"
     ]
    }
   ],
   "source": [
    "#Se crea el modelo KMeans\n",
    "kmeans = KMeans(n_clusters=2,n_init=10000)\n",
    "output = kmeans.fit(dataSet).labels_ #Este método realiza la división de nuestros datos\n",
    "\n",
    "#Se normaizan las variables\n",
    "mu=np.mean(dataSet,axis=0)\n",
    "sigma=np.std(dataSet,axis=0)\n",
    "dataSetNormalizad=((dataSet-mu)/sigma)\n",
    "\n",
    "#Se seleccionan las variables más informadas\n",
    "VariablesSelec=dataSetNormalizad[:,[39]]\n",
    "\n",
    "outputNormal = kmeans.fit(VariablesSelec).labels_ \n",
    "print(\"Resultados de KMeans con la variable Post SBP 0':\")\n",
    "print(\"Etiquetas de KMeans\")\n",
    "print(outputNormal)\n",
    "print(\"Etiquetas del dataSet\")\n",
    "print(labels)\n",
    "print(\"Número de iteraciones ejecutadas\")\n",
    "print(kmeans.n_iter_)\n",
    "print(\"Criterio de parada: \")\n",
    "print(kmeans.inertia_)"
   ]
  },
  {
   "cell_type": "code",
   "execution_count": 25,
   "id": "84a3258e",
   "metadata": {},
   "outputs": [
    {
     "name": "stdout",
     "output_type": "stream",
     "text": [
      "Resultados de KMeans con la variable Post DBP 0':\n",
      "Etiquetas de KMeans\n",
      "[1 1 1 1 1 0 1 1 1 0 0 0 0 0 0 1 0 0 0 0 0 0]\n",
      "Etiquetas del dataSet\n",
      "[1 1 1 1 1 1 1 1 1 1 0 0 0 0 0 0 0 0 0 0 0 0]\n",
      "Número de iteraciones ejecutadas\n",
      "2\n",
      "Criterio de parada: \n",
      "4.511934603807397\n"
     ]
    }
   ],
   "source": [
    "#Se crea el modelo KMeans\n",
    "kmeans = KMeans(n_clusters=2,n_init=10000)\n",
    "output = kmeans.fit(dataSet).labels_ #Este método realiza la división de nuestros datos\n",
    "\n",
    "#Se normaizan las variables\n",
    "mu=np.mean(dataSet,axis=0)\n",
    "sigma=np.std(dataSet,axis=0)\n",
    "dataSetNormalizad=((dataSet-mu)/sigma)\n",
    "\n",
    "#Se seleccionan las variables más informadas\n",
    "VariablesSelec=dataSetNormalizad[:,[40]]\n",
    "\n",
    "outputNormal = kmeans.fit(VariablesSelec).labels_ \n",
    "print(\"Resultados de KMeans con la variable Post DBP 0':\")\n",
    "print(\"Etiquetas de KMeans\")\n",
    "print(outputNormal)\n",
    "print(\"Etiquetas del dataSet\")\n",
    "print(labels)\n",
    "print(\"Número de iteraciones ejecutadas\")\n",
    "print(kmeans.n_iter_)\n",
    "print(\"Criterio de parada: \")\n",
    "print(kmeans.inertia_)"
   ]
  },
  {
   "cell_type": "code",
   "execution_count": 24,
   "id": "2be0e65a",
   "metadata": {},
   "outputs": [
    {
     "name": "stdout",
     "output_type": "stream",
     "text": [
      "Resultados de KMeans con la variable Post SBP 3':\n",
      "Etiquetas de KMeans\n",
      "[1 1 1 1 1 0 1 1 1 0 0 0 0 1 0 0 0 0 0 0 0 0]\n",
      "Etiquetas del dataSet\n",
      "[1 1 1 1 1 1 1 1 1 1 0 0 0 0 0 0 0 0 0 0 0 0]\n",
      "Número de iteraciones ejecutadas\n",
      "2\n",
      "Criterio de parada: \n",
      "5.542333663880627\n"
     ]
    }
   ],
   "source": [
    "#Se crea el modelo KMeans\n",
    "kmeans = KMeans(n_clusters=2,n_init=10000)\n",
    "output = kmeans.fit(dataSet).labels_ #Este método realiza la división de nuestros datos\n",
    "\n",
    "#Se normaizan las variables\n",
    "mu=np.mean(dataSet,axis=0)\n",
    "sigma=np.std(dataSet,axis=0)\n",
    "dataSetNormalizad=((dataSet-mu)/sigma)\n",
    "\n",
    "#Se seleccionan las variables más informadas\n",
    "VariablesSelec=dataSetNormalizad[:,[41]]\n",
    "\n",
    "outputNormal = kmeans.fit(VariablesSelec).labels_ \n",
    "print(\"Resultados de KMeans con la variable Post SBP 3':\")\n",
    "print(\"Etiquetas de KMeans\")\n",
    "print(outputNormal)\n",
    "print(\"Etiquetas del dataSet\")\n",
    "print(labels)\n",
    "print(\"Número de iteraciones ejecutadas\")\n",
    "print(kmeans.n_iter_)\n",
    "print(\"Criterio de parada: \")\n",
    "print(kmeans.inertia_)"
   ]
  },
  {
   "cell_type": "code",
   "execution_count": null,
   "id": "114ce683",
   "metadata": {},
   "outputs": [],
   "source": []
  }
 ],
 "metadata": {
  "kernelspec": {
   "display_name": "Python 3",
   "language": "python",
   "name": "python3"
  },
  "language_info": {
   "codemirror_mode": {
    "name": "ipython",
    "version": 3
   },
   "file_extension": ".py",
   "mimetype": "text/x-python",
   "name": "python",
   "nbconvert_exporter": "python",
   "pygments_lexer": "ipython3",
   "version": "3.8.8"
  }
 },
 "nbformat": 4,
 "nbformat_minor": 5
}
